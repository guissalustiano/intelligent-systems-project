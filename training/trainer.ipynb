{
 "metadata": {
  "language_info": {
   "codemirror_mode": {
    "name": "ipython",
    "version": 3
   },
   "file_extension": ".py",
   "mimetype": "text/x-python",
   "name": "python",
   "nbconvert_exporter": "python",
   "pygments_lexer": "ipython3",
   "version": "3.9.1-final"
  },
  "orig_nbformat": 2,
  "kernelspec": {
   "name": "python3",
   "display_name": "Python 3"
  }
 },
 "nbformat": 4,
 "nbformat_minor": 2,
 "cells": [
  {
   "source": [
    "Uma breve exploração dos dados pode set encontrado em [exploration.ipynb](./exploration.ipynb)"
   ],
   "cell_type": "markdown",
   "metadata": {}
  },
  {
   "source": [
    "# Importando bibliotecas"
   ],
   "cell_type": "markdown",
   "metadata": {}
  },
  {
   "cell_type": "code",
   "execution_count": 1,
   "metadata": {},
   "outputs": [],
   "source": [
    "%load_ext dotenv\n",
    "%dotenv"
   ]
  },
  {
   "cell_type": "code",
   "execution_count": 2,
   "metadata": {},
   "outputs": [],
   "source": [
    "import numpy as np\n",
    "import pandas as pd\n",
    "import seaborn as sns\n",
    "import matplotlib.pyplot as plt\n",
    "import os"
   ]
  },
  {
   "source": [
    "# Data Extraction"
   ],
   "cell_type": "markdown",
   "metadata": {}
  },
  {
   "cell_type": "code",
   "execution_count": 3,
   "metadata": {},
   "outputs": [
    {
     "output_type": "execute_result",
     "data": {
      "text/plain": [
       "            seller_id                                query  search_page  \\\n",
       "product_id                                                                \n",
       "11394449      8324141                       espirito santo            2   \n",
       "15534262      6939286                     cartao de visita            2   \n",
       "16153119      9835835                expositor de esmaltes            1   \n",
       "15877252      8071206  medidas lencol para berco americano            1   \n",
       "15917108      7200773                 adesivo box banheiro            3   \n",
       "\n",
       "            position                                 title  \\\n",
       "product_id                                                   \n",
       "11394449           6                Mandala Espírito Santo   \n",
       "15534262           0                      Cartão de Visita   \n",
       "16153119          38  Organizador expositor p/ 70 esmaltes   \n",
       "15877252           6        Jogo de Lençol Berço Estampado   \n",
       "15917108          38               ADESIVO BOX DE BANHEIRO   \n",
       "\n",
       "                                            concatenated_tags  \\\n",
       "product_id                                                      \n",
       "11394449                                          mandala mdf   \n",
       "15534262    cartao visita panfletos tag adesivos copos lon...   \n",
       "16153119                                            expositor   \n",
       "15877252                    t jogo lencol menino lencol berco   \n",
       "15917108                                 adesivo box banheiro   \n",
       "\n",
       "                  creation_date       price  weight  express_delivery  \\\n",
       "product_id                                                              \n",
       "11394449    2015-11-14 19:42:12  171.890000  1200.0                 1   \n",
       "15534262    2018-04-04 20:55:07   77.670000     8.0                 1   \n",
       "16153119    2018-10-13 20:57:07   73.920006  2709.0                 1   \n",
       "15877252    2017-02-27 13:26:03  118.770004     0.0                 1   \n",
       "15917108    2017-05-09 13:18:38  191.810000   507.0                 1   \n",
       "\n",
       "            minimum_quantity  view_counts  order_counts     category  \n",
       "product_id                                                            \n",
       "11394449                   4          244           NaN    Decoração  \n",
       "15534262                   5          124           NaN  Papel e Cia  \n",
       "16153119                   1           59           NaN       Outros  \n",
       "15877252                   1          180           1.0         Bebê  \n",
       "15917108                   6           34           NaN    Decoração  "
      ],
      "text/html": "<div>\n<style scoped>\n    .dataframe tbody tr th:only-of-type {\n        vertical-align: middle;\n    }\n\n    .dataframe tbody tr th {\n        vertical-align: top;\n    }\n\n    .dataframe thead th {\n        text-align: right;\n    }\n</style>\n<table border=\"1\" class=\"dataframe\">\n  <thead>\n    <tr style=\"text-align: right;\">\n      <th></th>\n      <th>seller_id</th>\n      <th>query</th>\n      <th>search_page</th>\n      <th>position</th>\n      <th>title</th>\n      <th>concatenated_tags</th>\n      <th>creation_date</th>\n      <th>price</th>\n      <th>weight</th>\n      <th>express_delivery</th>\n      <th>minimum_quantity</th>\n      <th>view_counts</th>\n      <th>order_counts</th>\n      <th>category</th>\n    </tr>\n    <tr>\n      <th>product_id</th>\n      <th></th>\n      <th></th>\n      <th></th>\n      <th></th>\n      <th></th>\n      <th></th>\n      <th></th>\n      <th></th>\n      <th></th>\n      <th></th>\n      <th></th>\n      <th></th>\n      <th></th>\n      <th></th>\n    </tr>\n  </thead>\n  <tbody>\n    <tr>\n      <th>11394449</th>\n      <td>8324141</td>\n      <td>espirito santo</td>\n      <td>2</td>\n      <td>6</td>\n      <td>Mandala Espírito Santo</td>\n      <td>mandala mdf</td>\n      <td>2015-11-14 19:42:12</td>\n      <td>171.890000</td>\n      <td>1200.0</td>\n      <td>1</td>\n      <td>4</td>\n      <td>244</td>\n      <td>NaN</td>\n      <td>Decoração</td>\n    </tr>\n    <tr>\n      <th>15534262</th>\n      <td>6939286</td>\n      <td>cartao de visita</td>\n      <td>2</td>\n      <td>0</td>\n      <td>Cartão de Visita</td>\n      <td>cartao visita panfletos tag adesivos copos lon...</td>\n      <td>2018-04-04 20:55:07</td>\n      <td>77.670000</td>\n      <td>8.0</td>\n      <td>1</td>\n      <td>5</td>\n      <td>124</td>\n      <td>NaN</td>\n      <td>Papel e Cia</td>\n    </tr>\n    <tr>\n      <th>16153119</th>\n      <td>9835835</td>\n      <td>expositor de esmaltes</td>\n      <td>1</td>\n      <td>38</td>\n      <td>Organizador expositor p/ 70 esmaltes</td>\n      <td>expositor</td>\n      <td>2018-10-13 20:57:07</td>\n      <td>73.920006</td>\n      <td>2709.0</td>\n      <td>1</td>\n      <td>1</td>\n      <td>59</td>\n      <td>NaN</td>\n      <td>Outros</td>\n    </tr>\n    <tr>\n      <th>15877252</th>\n      <td>8071206</td>\n      <td>medidas lencol para berco americano</td>\n      <td>1</td>\n      <td>6</td>\n      <td>Jogo de Lençol Berço Estampado</td>\n      <td>t jogo lencol menino lencol berco</td>\n      <td>2017-02-27 13:26:03</td>\n      <td>118.770004</td>\n      <td>0.0</td>\n      <td>1</td>\n      <td>1</td>\n      <td>180</td>\n      <td>1.0</td>\n      <td>Bebê</td>\n    </tr>\n    <tr>\n      <th>15917108</th>\n      <td>7200773</td>\n      <td>adesivo box banheiro</td>\n      <td>3</td>\n      <td>38</td>\n      <td>ADESIVO BOX DE BANHEIRO</td>\n      <td>adesivo box banheiro</td>\n      <td>2017-05-09 13:18:38</td>\n      <td>191.810000</td>\n      <td>507.0</td>\n      <td>1</td>\n      <td>6</td>\n      <td>34</td>\n      <td>NaN</td>\n      <td>Decoração</td>\n    </tr>\n  </tbody>\n</table>\n</div>"
     },
     "metadata": {},
     "execution_count": 3
    }
   ],
   "source": [
    "\n",
    "dataset_path = os.environ['DATASET_PATH']\n",
    "df = pd.read_csv(dataset_path, index_col=0)\n",
    "df.head()"
   ]
  },
  {
   "source": [
    "# Data Formatting"
   ],
   "cell_type": "markdown",
   "metadata": {}
  },
  {
   "cell_type": "code",
   "execution_count": 4,
   "metadata": {},
   "outputs": [
    {
     "output_type": "stream",
     "name": "stdout",
     "text": [
      "<class 'pandas.core.frame.DataFrame'>\nInt64Index: 38000 entries, 11394449 to 6866725\nData columns (total 14 columns):\n #   Column             Non-Null Count  Dtype         \n---  ------             --------------  -----         \n 0   seller_id          38000 non-null  int64         \n 1   query              38000 non-null  string        \n 2   search_page        38000 non-null  int64         \n 3   position           38000 non-null  int64         \n 4   title              38000 non-null  string        \n 5   concatenated_tags  38000 non-null  string        \n 6   creation_date      38000 non-null  datetime64[ns]\n 7   price              38000 non-null  float64       \n 8   weight             37942 non-null  float64       \n 9   express_delivery   38000 non-null  int64         \n 10  minimum_quantity   38000 non-null  int64         \n 11  view_counts        38000 non-null  int64         \n 12  order_counts       38000 non-null  float64       \n 13  category           38000 non-null  category      \ndtypes: category(1), datetime64[ns](1), float64(3), int64(6), string(3)\nmemory usage: 4.1 MB\nNone\n"
     ]
    }
   ],
   "source": [
    "# Save types\n",
    "df['query'] = df['query'].astype('string')\n",
    "df['title'] = df['title'].astype('string')\n",
    "df['concatenated_tags'] = df['concatenated_tags'].astype('string')\n",
    "df['concatenated_tags'][df['concatenated_tags'].isnull()] = \"\"\n",
    "df['creation_date'] = pd.to_datetime(df['creation_date'])\n",
    "df['order_counts'][df['order_counts'].isnull()] = 0\n",
    "df['category'] = df['category'].astype('category')\n",
    "\n",
    "print(df.info())"
   ]
  },
  {
   "cell_type": "code",
   "execution_count": 5,
   "metadata": {},
   "outputs": [
    {
     "output_type": "execute_result",
     "data": {
      "text/plain": [
       "product_id\n",
       "11394449    2\n",
       "15534262    5\n",
       "16153119    4\n",
       "15877252    0\n",
       "15917108    2\n",
       "           ..\n",
       "13230578    3\n",
       "6736914     5\n",
       "11017911    0\n",
       "6807331     3\n",
       "6866725     2\n",
       "Name: category_key, Length: 38000, dtype: int64"
      ]
     },
     "metadata": {},
     "execution_count": 5
    }
   ],
   "source": [
    "from sklearn.preprocessing import LabelEncoder\n",
    "\n",
    "le = LabelEncoder()\n",
    "df['category_key'] = le.fit_transform(df['category'])\n",
    "df['category_key']"
   ]
  },
  {
   "cell_type": "code",
   "execution_count": 6,
   "metadata": {},
   "outputs": [
    {
     "output_type": "execute_result",
     "data": {
      "text/plain": [
       "       concatenated_tags_0  concatenated_tags_1  concatenated_tags_2  \\\n",
       "0                      0.0                  0.0                  0.0   \n",
       "1                      0.0                  0.0                  0.0   \n",
       "2                      0.0                  0.0                  0.0   \n",
       "3                      0.0                  0.0                  0.0   \n",
       "4                      0.0                  0.0                  0.0   \n",
       "...                    ...                  ...                  ...   \n",
       "37995                  0.0                  0.0                  0.0   \n",
       "37996                  0.0                  0.0                  0.0   \n",
       "37997                  0.0                  0.0                  0.0   \n",
       "37998                  0.0                  0.0                  0.0   \n",
       "37999                  0.0                  0.0                  0.0   \n",
       "\n",
       "       concatenated_tags_3  concatenated_tags_4  concatenated_tags_5  \\\n",
       "0                      0.0                  0.0                  0.0   \n",
       "1                      0.0                  0.0                  0.0   \n",
       "2                      0.0                  0.0                  0.0   \n",
       "3                      0.0                  0.0                  0.0   \n",
       "4                      0.0                  0.0                  0.0   \n",
       "...                    ...                  ...                  ...   \n",
       "37995                  0.0                  0.0                  0.0   \n",
       "37996                  0.0                  0.0                  0.0   \n",
       "37997                  0.0                  0.0                  0.0   \n",
       "37998                  0.0                  0.0                  0.0   \n",
       "37999                  0.0                  0.0                  0.0   \n",
       "\n",
       "       concatenated_tags_6  concatenated_tags_7  concatenated_tags_8  \\\n",
       "0                      0.0                  0.0                  0.0   \n",
       "1                      0.0                  0.0                  0.0   \n",
       "2                      0.0                  0.0                  0.0   \n",
       "3                      0.0                  0.0                  0.0   \n",
       "4                      0.0                  0.0                  0.0   \n",
       "...                    ...                  ...                  ...   \n",
       "37995                  0.0                  0.0                  0.0   \n",
       "37996                  0.0                  0.0                  0.0   \n",
       "37997                  0.0                  0.0                  0.0   \n",
       "37998                  0.0                  0.0                  0.0   \n",
       "37999                  0.0                  0.0                  0.0   \n",
       "\n",
       "       concatenated_tags_9  ...  concatenated_tags_7616  \\\n",
       "0                      0.0  ...                     0.0   \n",
       "1                      0.0  ...                     0.0   \n",
       "2                      0.0  ...                     0.0   \n",
       "3                      0.0  ...                     0.0   \n",
       "4                      0.0  ...                     0.0   \n",
       "...                    ...  ...                     ...   \n",
       "37995                  0.0  ...                     0.0   \n",
       "37996                  0.0  ...                     0.0   \n",
       "37997                  0.0  ...                     0.0   \n",
       "37998                  0.0  ...                     0.0   \n",
       "37999                  0.0  ...                     0.0   \n",
       "\n",
       "       concatenated_tags_7617  concatenated_tags_7618  concatenated_tags_7619  \\\n",
       "0                         0.0                     0.0                     0.0   \n",
       "1                         0.0                     0.0                     0.0   \n",
       "2                         0.0                     0.0                     0.0   \n",
       "3                         0.0                     0.0                     0.0   \n",
       "4                         0.0                     0.0                     0.0   \n",
       "...                       ...                     ...                     ...   \n",
       "37995                     0.0                     0.0                     0.0   \n",
       "37996                     0.0                     0.0                     0.0   \n",
       "37997                     0.0                     0.0                     0.0   \n",
       "37998                     0.0                     0.0                     0.0   \n",
       "37999                     0.0                     0.0                     0.0   \n",
       "\n",
       "       concatenated_tags_7620  concatenated_tags_7621  concatenated_tags_7622  \\\n",
       "0                         0.0                     0.0                     0.0   \n",
       "1                         0.0                     0.0                     0.0   \n",
       "2                         0.0                     0.0                     0.0   \n",
       "3                         0.0                     0.0                     0.0   \n",
       "4                         0.0                     0.0                     0.0   \n",
       "...                       ...                     ...                     ...   \n",
       "37995                     0.0                     0.0                     0.0   \n",
       "37996                     0.0                     0.0                     0.0   \n",
       "37997                     0.0                     0.0                     0.0   \n",
       "37998                     0.0                     0.0                     0.0   \n",
       "37999                     0.0                     0.0                     0.0   \n",
       "\n",
       "       concatenated_tags_7623  concatenated_tags_7624  concatenated_tags_7625  \n",
       "0                         0.0                     0.0                     0.0  \n",
       "1                         0.0                     0.0                     0.0  \n",
       "2                         0.0                     0.0                     0.0  \n",
       "3                         0.0                     0.0                     0.0  \n",
       "4                         0.0                     0.0                     0.0  \n",
       "...                       ...                     ...                     ...  \n",
       "37995                     0.0                     0.0                     0.0  \n",
       "37996                     0.0                     0.0                     0.0  \n",
       "37997                     0.0                     0.0                     0.0  \n",
       "37998                     0.0                     0.0                     0.0  \n",
       "37999                     0.0                     0.0                     0.0  \n",
       "\n",
       "[38000 rows x 7626 columns]"
      ],
      "text/html": "<div>\n<style scoped>\n    .dataframe tbody tr th:only-of-type {\n        vertical-align: middle;\n    }\n\n    .dataframe tbody tr th {\n        vertical-align: top;\n    }\n\n    .dataframe thead th {\n        text-align: right;\n    }\n</style>\n<table border=\"1\" class=\"dataframe\">\n  <thead>\n    <tr style=\"text-align: right;\">\n      <th></th>\n      <th>concatenated_tags_0</th>\n      <th>concatenated_tags_1</th>\n      <th>concatenated_tags_2</th>\n      <th>concatenated_tags_3</th>\n      <th>concatenated_tags_4</th>\n      <th>concatenated_tags_5</th>\n      <th>concatenated_tags_6</th>\n      <th>concatenated_tags_7</th>\n      <th>concatenated_tags_8</th>\n      <th>concatenated_tags_9</th>\n      <th>...</th>\n      <th>concatenated_tags_7616</th>\n      <th>concatenated_tags_7617</th>\n      <th>concatenated_tags_7618</th>\n      <th>concatenated_tags_7619</th>\n      <th>concatenated_tags_7620</th>\n      <th>concatenated_tags_7621</th>\n      <th>concatenated_tags_7622</th>\n      <th>concatenated_tags_7623</th>\n      <th>concatenated_tags_7624</th>\n      <th>concatenated_tags_7625</th>\n    </tr>\n  </thead>\n  <tbody>\n    <tr>\n      <th>0</th>\n      <td>0.0</td>\n      <td>0.0</td>\n      <td>0.0</td>\n      <td>0.0</td>\n      <td>0.0</td>\n      <td>0.0</td>\n      <td>0.0</td>\n      <td>0.0</td>\n      <td>0.0</td>\n      <td>0.0</td>\n      <td>...</td>\n      <td>0.0</td>\n      <td>0.0</td>\n      <td>0.0</td>\n      <td>0.0</td>\n      <td>0.0</td>\n      <td>0.0</td>\n      <td>0.0</td>\n      <td>0.0</td>\n      <td>0.0</td>\n      <td>0.0</td>\n    </tr>\n    <tr>\n      <th>1</th>\n      <td>0.0</td>\n      <td>0.0</td>\n      <td>0.0</td>\n      <td>0.0</td>\n      <td>0.0</td>\n      <td>0.0</td>\n      <td>0.0</td>\n      <td>0.0</td>\n      <td>0.0</td>\n      <td>0.0</td>\n      <td>...</td>\n      <td>0.0</td>\n      <td>0.0</td>\n      <td>0.0</td>\n      <td>0.0</td>\n      <td>0.0</td>\n      <td>0.0</td>\n      <td>0.0</td>\n      <td>0.0</td>\n      <td>0.0</td>\n      <td>0.0</td>\n    </tr>\n    <tr>\n      <th>2</th>\n      <td>0.0</td>\n      <td>0.0</td>\n      <td>0.0</td>\n      <td>0.0</td>\n      <td>0.0</td>\n      <td>0.0</td>\n      <td>0.0</td>\n      <td>0.0</td>\n      <td>0.0</td>\n      <td>0.0</td>\n      <td>...</td>\n      <td>0.0</td>\n      <td>0.0</td>\n      <td>0.0</td>\n      <td>0.0</td>\n      <td>0.0</td>\n      <td>0.0</td>\n      <td>0.0</td>\n      <td>0.0</td>\n      <td>0.0</td>\n      <td>0.0</td>\n    </tr>\n    <tr>\n      <th>3</th>\n      <td>0.0</td>\n      <td>0.0</td>\n      <td>0.0</td>\n      <td>0.0</td>\n      <td>0.0</td>\n      <td>0.0</td>\n      <td>0.0</td>\n      <td>0.0</td>\n      <td>0.0</td>\n      <td>0.0</td>\n      <td>...</td>\n      <td>0.0</td>\n      <td>0.0</td>\n      <td>0.0</td>\n      <td>0.0</td>\n      <td>0.0</td>\n      <td>0.0</td>\n      <td>0.0</td>\n      <td>0.0</td>\n      <td>0.0</td>\n      <td>0.0</td>\n    </tr>\n    <tr>\n      <th>4</th>\n      <td>0.0</td>\n      <td>0.0</td>\n      <td>0.0</td>\n      <td>0.0</td>\n      <td>0.0</td>\n      <td>0.0</td>\n      <td>0.0</td>\n      <td>0.0</td>\n      <td>0.0</td>\n      <td>0.0</td>\n      <td>...</td>\n      <td>0.0</td>\n      <td>0.0</td>\n      <td>0.0</td>\n      <td>0.0</td>\n      <td>0.0</td>\n      <td>0.0</td>\n      <td>0.0</td>\n      <td>0.0</td>\n      <td>0.0</td>\n      <td>0.0</td>\n    </tr>\n    <tr>\n      <th>...</th>\n      <td>...</td>\n      <td>...</td>\n      <td>...</td>\n      <td>...</td>\n      <td>...</td>\n      <td>...</td>\n      <td>...</td>\n      <td>...</td>\n      <td>...</td>\n      <td>...</td>\n      <td>...</td>\n      <td>...</td>\n      <td>...</td>\n      <td>...</td>\n      <td>...</td>\n      <td>...</td>\n      <td>...</td>\n      <td>...</td>\n      <td>...</td>\n      <td>...</td>\n      <td>...</td>\n    </tr>\n    <tr>\n      <th>37995</th>\n      <td>0.0</td>\n      <td>0.0</td>\n      <td>0.0</td>\n      <td>0.0</td>\n      <td>0.0</td>\n      <td>0.0</td>\n      <td>0.0</td>\n      <td>0.0</td>\n      <td>0.0</td>\n      <td>0.0</td>\n      <td>...</td>\n      <td>0.0</td>\n      <td>0.0</td>\n      <td>0.0</td>\n      <td>0.0</td>\n      <td>0.0</td>\n      <td>0.0</td>\n      <td>0.0</td>\n      <td>0.0</td>\n      <td>0.0</td>\n      <td>0.0</td>\n    </tr>\n    <tr>\n      <th>37996</th>\n      <td>0.0</td>\n      <td>0.0</td>\n      <td>0.0</td>\n      <td>0.0</td>\n      <td>0.0</td>\n      <td>0.0</td>\n      <td>0.0</td>\n      <td>0.0</td>\n      <td>0.0</td>\n      <td>0.0</td>\n      <td>...</td>\n      <td>0.0</td>\n      <td>0.0</td>\n      <td>0.0</td>\n      <td>0.0</td>\n      <td>0.0</td>\n      <td>0.0</td>\n      <td>0.0</td>\n      <td>0.0</td>\n      <td>0.0</td>\n      <td>0.0</td>\n    </tr>\n    <tr>\n      <th>37997</th>\n      <td>0.0</td>\n      <td>0.0</td>\n      <td>0.0</td>\n      <td>0.0</td>\n      <td>0.0</td>\n      <td>0.0</td>\n      <td>0.0</td>\n      <td>0.0</td>\n      <td>0.0</td>\n      <td>0.0</td>\n      <td>...</td>\n      <td>0.0</td>\n      <td>0.0</td>\n      <td>0.0</td>\n      <td>0.0</td>\n      <td>0.0</td>\n      <td>0.0</td>\n      <td>0.0</td>\n      <td>0.0</td>\n      <td>0.0</td>\n      <td>0.0</td>\n    </tr>\n    <tr>\n      <th>37998</th>\n      <td>0.0</td>\n      <td>0.0</td>\n      <td>0.0</td>\n      <td>0.0</td>\n      <td>0.0</td>\n      <td>0.0</td>\n      <td>0.0</td>\n      <td>0.0</td>\n      <td>0.0</td>\n      <td>0.0</td>\n      <td>...</td>\n      <td>0.0</td>\n      <td>0.0</td>\n      <td>0.0</td>\n      <td>0.0</td>\n      <td>0.0</td>\n      <td>0.0</td>\n      <td>0.0</td>\n      <td>0.0</td>\n      <td>0.0</td>\n      <td>0.0</td>\n    </tr>\n    <tr>\n      <th>37999</th>\n      <td>0.0</td>\n      <td>0.0</td>\n      <td>0.0</td>\n      <td>0.0</td>\n      <td>0.0</td>\n      <td>0.0</td>\n      <td>0.0</td>\n      <td>0.0</td>\n      <td>0.0</td>\n      <td>0.0</td>\n      <td>...</td>\n      <td>0.0</td>\n      <td>0.0</td>\n      <td>0.0</td>\n      <td>0.0</td>\n      <td>0.0</td>\n      <td>0.0</td>\n      <td>0.0</td>\n      <td>0.0</td>\n      <td>0.0</td>\n      <td>0.0</td>\n    </tr>\n  </tbody>\n</table>\n<p>38000 rows × 7626 columns</p>\n</div>"
     },
     "metadata": {},
     "execution_count": 6
    }
   ],
   "source": [
    "from sklearn.feature_extraction.text import TfidfVectorizer\n",
    "\n",
    "# Eu não entendo direito oq isso faz, mas foi oq eu achei na net\n",
    "vectorizer = TfidfVectorizer()\n",
    "\n",
    "collum_tfid = 'concatenated_tags'\n",
    "tfid = pd.DataFrame(vectorizer.fit_transform(df[collum_tfid]).toarray())\n",
    "tfid.columns = [f\"{collum_tfid}_{i}\" for i in tfid.columns]\n",
    "tfid"
   ]
  },
  {
   "cell_type": "code",
   "execution_count": 7,
   "metadata": {},
   "outputs": [
    {
     "output_type": "execute_result",
     "data": {
      "text/plain": [
       "Index(['concatenated_tags_0', 'concatenated_tags_1', 'concatenated_tags_2',\n",
       "       'concatenated_tags_3', 'concatenated_tags_4', 'concatenated_tags_5',\n",
       "       'concatenated_tags_6', 'concatenated_tags_7', 'concatenated_tags_8',\n",
       "       'concatenated_tags_9',\n",
       "       ...\n",
       "       'concatenated_tags_7616', 'concatenated_tags_7617',\n",
       "       'concatenated_tags_7618', 'concatenated_tags_7619',\n",
       "       'concatenated_tags_7620', 'concatenated_tags_7621',\n",
       "       'concatenated_tags_7622', 'concatenated_tags_7623',\n",
       "       'concatenated_tags_7624', 'concatenated_tags_7625'],\n",
       "      dtype='object', length=7626)"
      ]
     },
     "metadata": {},
     "execution_count": 7
    }
   ],
   "source": [
    "dfinal = tfid # .join(df[['price', 'weight', 'minimum_quantity']])\n",
    "dfinal.columns"
   ]
  },
  {
   "cell_type": "code",
   "execution_count": 8,
   "metadata": {},
   "outputs": [
    {
     "output_type": "execute_result",
     "data": {
      "text/plain": [
       "(array([[0., 0., 0., ..., 0., 0., 0.],\n",
       "        [0., 0., 0., ..., 0., 0., 0.],\n",
       "        [0., 0., 0., ..., 0., 0., 0.],\n",
       "        ...,\n",
       "        [0., 0., 0., ..., 0., 0., 0.],\n",
       "        [0., 0., 0., ..., 0., 0., 0.],\n",
       "        [0., 0., 0., ..., 0., 0., 0.]]),\n",
       " array(['Decoração', 'Papel e Cia', 'Outros', ..., 'Bebê', 'Lembrancinhas',\n",
       "        'Decoração'], dtype=object))"
      ]
     },
     "metadata": {},
     "execution_count": 8
    }
   ],
   "source": [
    "X, y = dfinal.to_numpy() , df['category'].to_numpy()\n",
    "X, y"
   ]
  },
  {
   "cell_type": "code",
   "execution_count": 9,
   "metadata": {},
   "outputs": [
    {
     "output_type": "execute_result",
     "data": {
      "text/plain": [
       "((38000, 7626), (38000,))"
      ]
     },
     "metadata": {},
     "execution_count": 9
    }
   ],
   "source": [
    "X.shape, y.shape"
   ]
  },
  {
   "source": [
    "# Modeling"
   ],
   "cell_type": "markdown",
   "metadata": {}
  },
  {
   "cell_type": "code",
   "execution_count": 10,
   "metadata": {},
   "outputs": [],
   "source": [
    "from sklearn.model_selection import train_test_split\n",
    "from sklearn.ensemble import RandomForestClassifier\n",
    "\n",
    "X_train,X_test,y_train,y_test = train_test_split(X,y,test_size=0.25,random_state=4)"
   ]
  },
  {
   "cell_type": "code",
   "execution_count": 11,
   "metadata": {},
   "outputs": [
    {
     "output_type": "execute_result",
     "data": {
      "text/plain": [
       "RandomForestClassifier()"
      ]
     },
     "metadata": {},
     "execution_count": 11
    }
   ],
   "source": [
    "clf = RandomForestClassifier(n_estimators=100)\n",
    "clf.fit(X_train,y_train)"
   ]
  },
  {
   "source": [
    "# Validation"
   ],
   "cell_type": "markdown",
   "metadata": {}
  },
  {
   "cell_type": "code",
   "execution_count": null,
   "metadata": {},
   "outputs": [],
   "source": [
    "y_pred=clf.predict(X_test)"
   ]
  },
  {
   "cell_type": "code",
   "execution_count": 19,
   "metadata": {},
   "outputs": [
    {
     "output_type": "execute_result",
     "data": {
      "text/plain": [
       "'              precision    recall  f1-score   support\\n\\n           0       0.84      0.89      0.87      1638\\n           1       0.84      0.96      0.90       210\\n           2       0.87      0.83      0.85      2257\\n           3       0.94      0.87      0.91      4725\\n           4       0.57      0.87      0.69       187\\n           5       0.63      0.88      0.73       483\\n\\n    accuracy                           0.87      9500\\n   macro avg       0.78      0.88      0.82      9500\\nweighted avg       0.88      0.87      0.87      9500\\n'"
      ]
     },
     "metadata": {},
     "execution_count": 19
    }
   ],
   "source": [
    "from sklearn.metrics import classification_report\n",
    "report = classification_report(y_pred, y_test)\n",
    "print(report)"
   ]
  },
  {
   "cell_type": "code",
   "execution_count": 12,
   "metadata": {},
   "outputs": [
    {
     "output_type": "error",
     "ename": "FileNotFoundError",
     "evalue": "[Errno 2] No such file or directory: '/usr/src/data/metrics.txt'",
     "traceback": [
      "\u001b[0;31m---------------------------------------------------------------------------\u001b[0m",
      "\u001b[0;31mFileNotFoundError\u001b[0m                         Traceback (most recent call last)",
      "\u001b[0;32m<ipython-input-12-81625ddf3547>\u001b[0m in \u001b[0;36m<module>\u001b[0;34m\u001b[0m\n\u001b[1;32m      1\u001b[0m \u001b[0mmetrics_path\u001b[0m \u001b[0;34m=\u001b[0m \u001b[0mos\u001b[0m\u001b[0;34m.\u001b[0m\u001b[0menviron\u001b[0m\u001b[0;34m[\u001b[0m\u001b[0;34m'METRICS_PATH'\u001b[0m\u001b[0;34m]\u001b[0m\u001b[0;34m\u001b[0m\u001b[0;34m\u001b[0m\u001b[0m\n\u001b[1;32m      2\u001b[0m \u001b[0;34m\u001b[0m\u001b[0m\n\u001b[0;32m----> 3\u001b[0;31m \u001b[0;32mwith\u001b[0m \u001b[0mopen\u001b[0m\u001b[0;34m(\u001b[0m\u001b[0mmetrics_path\u001b[0m\u001b[0;34m,\u001b[0m \u001b[0mmode\u001b[0m\u001b[0;34m=\u001b[0m\u001b[0;34m'w'\u001b[0m\u001b[0;34m)\u001b[0m \u001b[0;32mas\u001b[0m \u001b[0mf\u001b[0m\u001b[0;34m:\u001b[0m\u001b[0;34m\u001b[0m\u001b[0;34m\u001b[0m\u001b[0m\n\u001b[0m\u001b[1;32m      4\u001b[0m     \u001b[0mf\u001b[0m\u001b[0;34m.\u001b[0m\u001b[0mwrite\u001b[0m\u001b[0;34m(\u001b[0m\u001b[0mreport\u001b[0m\u001b[0;34m)\u001b[0m\u001b[0;34m\u001b[0m\u001b[0;34m\u001b[0m\u001b[0m\n",
      "\u001b[0;31mFileNotFoundError\u001b[0m: [Errno 2] No such file or directory: '/usr/src/data/metrics.txt'"
     ]
    }
   ],
   "source": [
    "metrics_path = os.environ['METRICS_PATH']\n",
    "\n",
    "with open(metrics_path, mode='w') as f:\n",
    "    f.write(report)"
   ]
  },
  {
   "source": [
    "# Model Export"
   ],
   "cell_type": "markdown",
   "metadata": {}
  },
  {
   "cell_type": "code",
   "execution_count": null,
   "metadata": {},
   "outputs": [],
   "source": [
    "import pickle\n",
    "metrics_path = os.environ['MODEL_PATH']\n",
    "\n",
    "with open(model_path, mode='wb') as f:\n",
    "    pickle.dump(clf, f)"
   ]
  }
 ]
}