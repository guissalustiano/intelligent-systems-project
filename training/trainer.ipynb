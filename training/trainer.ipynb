{
 "metadata": {
  "language_info": {
   "codemirror_mode": {
    "name": "ipython",
    "version": 3
   },
   "file_extension": ".py",
   "mimetype": "text/x-python",
   "name": "python",
   "nbconvert_exporter": "python",
   "pygments_lexer": "ipython3",
   "version": "3.9.1-final"
  },
  "orig_nbformat": 2,
  "kernelspec": {
   "name": "python3",
   "display_name": "Python 3"
  }
 },
 "nbformat": 4,
 "nbformat_minor": 2,
 "cells": [
  {
   "source": [
    "Uma breve exploração dos dados pode set encontrado em [exploration.ipynb](./exploration.ipynb)"
   ],
   "cell_type": "markdown",
   "metadata": {}
  },
  {
   "source": [
    "# Importando bibliotecas"
   ],
   "cell_type": "markdown",
   "metadata": {}
  },
  {
   "cell_type": "code",
   "execution_count": 29,
   "metadata": {},
   "outputs": [
    {
     "output_type": "stream",
     "name": "stdout",
     "text": [
      "The dotenv extension is already loaded. To reload it, use:\n",
      "  %reload_ext dotenv\n",
      "Defaulting to user installation because normal site-packages is not writeable\n",
      "Requirement already satisfied: pt-core-news-sm==3.0.0 from https://github.com/explosion/spacy-models/releases/download/pt_core_news_sm-3.0.0/pt_core_news_sm-3.0.0-py3-none-any.whl#egg=pt_core_news_sm==3.0.0 in /home/guiss/.local/lib/python3.9/site-packages (3.0.0)\n",
      "Requirement already satisfied: spacy<3.1.0,>=3.0.0 in /home/guiss/.local/lib/python3.9/site-packages (from pt-core-news-sm==3.0.0) (3.0.1)\n",
      "Requirement already satisfied: blis<0.8.0,>=0.4.0 in /home/guiss/.local/lib/python3.9/site-packages (from spacy<3.1.0,>=3.0.0->pt-core-news-sm==3.0.0) (0.7.4)\n",
      "Requirement already satisfied: pydantic<1.8.0,>=1.7.1 in /home/guiss/.local/lib/python3.9/site-packages (from spacy<3.1.0,>=3.0.0->pt-core-news-sm==3.0.0) (1.7.3)\n",
      "Requirement already satisfied: thinc<8.1.0,>=8.0.0 in /home/guiss/.local/lib/python3.9/site-packages (from spacy<3.1.0,>=3.0.0->pt-core-news-sm==3.0.0) (8.0.1)\n",
      "Requirement already satisfied: murmurhash<1.1.0,>=0.28.0 in /home/guiss/.local/lib/python3.9/site-packages (from spacy<3.1.0,>=3.0.0->pt-core-news-sm==3.0.0) (1.0.5)\n",
      "Requirement already satisfied: srsly<3.0.0,>=2.4.0 in /home/guiss/.local/lib/python3.9/site-packages (from spacy<3.1.0,>=3.0.0->pt-core-news-sm==3.0.0) (2.4.0)\n",
      "Requirement already satisfied: requests<3.0.0,>=2.13.0 in /home/guiss/.local/lib/python3.9/site-packages (from spacy<3.1.0,>=3.0.0->pt-core-news-sm==3.0.0) (2.25.0)\n",
      "Requirement already satisfied: catalogue<2.1.0,>=2.0.1 in /home/guiss/.local/lib/python3.9/site-packages (from spacy<3.1.0,>=3.0.0->pt-core-news-sm==3.0.0) (2.0.1)\n",
      "Requirement already satisfied: typer<0.4.0,>=0.3.0 in /home/guiss/.local/lib/python3.9/site-packages (from spacy<3.1.0,>=3.0.0->pt-core-news-sm==3.0.0) (0.3.2)\n",
      "Requirement already satisfied: spacy-legacy<3.1.0,>=3.0.0 in /home/guiss/.local/lib/python3.9/site-packages (from spacy<3.1.0,>=3.0.0->pt-core-news-sm==3.0.0) (3.0.1)\n",
      "Requirement already satisfied: cymem<2.1.0,>=2.0.2 in /home/guiss/.local/lib/python3.9/site-packages (from spacy<3.1.0,>=3.0.0->pt-core-news-sm==3.0.0) (2.0.5)\n",
      "Requirement already satisfied: tqdm<5.0.0,>=4.38.0 in /home/guiss/.local/lib/python3.9/site-packages (from spacy<3.1.0,>=3.0.0->pt-core-news-sm==3.0.0) (4.56.2)\n",
      "Requirement already satisfied: numpy>=1.15.0 in /home/guiss/.local/lib/python3.9/site-packages (from spacy<3.1.0,>=3.0.0->pt-core-news-sm==3.0.0) (1.19.4)\n",
      "Requirement already satisfied: setuptools in /usr/lib/python3.9/site-packages (from spacy<3.1.0,>=3.0.0->pt-core-news-sm==3.0.0) (51.1.2)\n",
      "Requirement already satisfied: packaging>=20.0 in /usr/lib/python3.9/site-packages (from spacy<3.1.0,>=3.0.0->pt-core-news-sm==3.0.0) (20.8)\n",
      "Requirement already satisfied: pathy in /home/guiss/.local/lib/python3.9/site-packages (from spacy<3.1.0,>=3.0.0->pt-core-news-sm==3.0.0) (0.3.6)\n",
      "Requirement already satisfied: preshed<3.1.0,>=3.0.2 in /home/guiss/.local/lib/python3.9/site-packages (from spacy<3.1.0,>=3.0.0->pt-core-news-sm==3.0.0) (3.0.5)\n",
      "Requirement already satisfied: jinja2 in /usr/lib/python3.9/site-packages (from spacy<3.1.0,>=3.0.0->pt-core-news-sm==3.0.0) (2.11.2)\n",
      "Requirement already satisfied: wasabi<1.1.0,>=0.8.1 in /home/guiss/.local/lib/python3.9/site-packages (from spacy<3.1.0,>=3.0.0->pt-core-news-sm==3.0.0) (0.8.2)\n",
      "Requirement already satisfied: idna<3,>=2.5 in /usr/lib/python3.9/site-packages (from requests<3.0.0,>=2.13.0->spacy<3.1.0,>=3.0.0->pt-core-news-sm==3.0.0) (2.10)\n",
      "Requirement already satisfied: certifi>=2017.4.17 in /home/guiss/.local/lib/python3.9/site-packages (from requests<3.0.0,>=2.13.0->spacy<3.1.0,>=3.0.0->pt-core-news-sm==3.0.0) (2020.12.5)\n",
      "Requirement already satisfied: urllib3<1.27,>=1.21.1 in /usr/lib/python3.9/site-packages (from requests<3.0.0,>=2.13.0->spacy<3.1.0,>=3.0.0->pt-core-news-sm==3.0.0) (1.26.1)\n",
      "Requirement already satisfied: chardet<4,>=3.0.2 in /usr/lib/python3.9/site-packages (from requests<3.0.0,>=2.13.0->spacy<3.1.0,>=3.0.0->pt-core-news-sm==3.0.0) (3.0.4)\n",
      "Requirement already satisfied: click<7.2.0,>=7.1.1 in /usr/lib/python3.9/site-packages (from typer<0.4.0,>=0.3.0->spacy<3.1.0,>=3.0.0->pt-core-news-sm==3.0.0) (7.1.2)\n",
      "Requirement already satisfied: pyparsing>=2.0.2 in /usr/lib/python3.9/site-packages (from packaging>=20.0->spacy<3.1.0,>=3.0.0->pt-core-news-sm==3.0.0) (2.4.7)\n",
      "Requirement already satisfied: smart-open<4.0.0,>=2.2.0 in /home/guiss/.local/lib/python3.9/site-packages (from pathy->spacy<3.1.0,>=3.0.0->pt-core-news-sm==3.0.0) (3.0.0)\n",
      "Requirement already satisfied: MarkupSafe>=0.23 in /usr/lib/python3.9/site-packages (from jinja2->spacy<3.1.0,>=3.0.0->pt-core-news-sm==3.0.0) (1.1.1)\n",
      "\u001b[38;5;2m✔ Download and installation successful\u001b[0m\n",
      "You can now load the package via spacy.load('pt_core_news_sm')\n",
      "[nltk_data] Downloading package stopwords to /home/guiss/nltk_data...\n",
      "[nltk_data]   Unzipping corpora/stopwords.zip.\n"
     ]
    },
    {
     "output_type": "execute_result",
     "data": {
      "text/plain": [
       "True"
      ]
     },
     "metadata": {},
     "execution_count": 29
    }
   ],
   "source": [
    "%load_ext dotenv\n",
    "%dotenv\n",
    "!python -m spacy download pt_core_news_sm\n",
    "nltk.download('stopwords')"
   ]
  },
  {
   "cell_type": "code",
   "execution_count": 32,
   "metadata": {},
   "outputs": [],
   "source": [
    "import numpy as np\n",
    "import pandas as pd\n",
    "import seaborn as sns\n",
    "import matplotlib.pyplot as plt\n",
    "import os\n",
    "\n",
    "from sklearn.preprocessing import LabelEncoder\n",
    "\n",
    "# NLP libs\n",
    "import nltk\n",
    "from nltk.corpus import stopwords\n",
    "import spacy\n",
    "from gensim.models import KeyedVectors"
   ]
  },
  {
   "source": [
    "# Data Extraction"
   ],
   "cell_type": "markdown",
   "metadata": {}
  },
  {
   "cell_type": "code",
   "execution_count": 4,
   "metadata": {},
   "outputs": [
    {
     "output_type": "execute_result",
     "data": {
      "text/plain": [
       "            seller_id                                query  search_page  \\\n",
       "product_id                                                                \n",
       "11394449      8324141                       espirito santo            2   \n",
       "15534262      6939286                     cartao de visita            2   \n",
       "16153119      9835835                expositor de esmaltes            1   \n",
       "15877252      8071206  medidas lencol para berco americano            1   \n",
       "15917108      7200773                 adesivo box banheiro            3   \n",
       "\n",
       "            position                                 title  \\\n",
       "product_id                                                   \n",
       "11394449           6                Mandala Espírito Santo   \n",
       "15534262           0                      Cartão de Visita   \n",
       "16153119          38  Organizador expositor p/ 70 esmaltes   \n",
       "15877252           6        Jogo de Lençol Berço Estampado   \n",
       "15917108          38               ADESIVO BOX DE BANHEIRO   \n",
       "\n",
       "                                            concatenated_tags  \\\n",
       "product_id                                                      \n",
       "11394449                                          mandala mdf   \n",
       "15534262    cartao visita panfletos tag adesivos copos lon...   \n",
       "16153119                                            expositor   \n",
       "15877252                    t jogo lencol menino lencol berco   \n",
       "15917108                                 adesivo box banheiro   \n",
       "\n",
       "                  creation_date       price  weight  express_delivery  \\\n",
       "product_id                                                              \n",
       "11394449    2015-11-14 19:42:12  171.890000  1200.0                 1   \n",
       "15534262    2018-04-04 20:55:07   77.670000     8.0                 1   \n",
       "16153119    2018-10-13 20:57:07   73.920006  2709.0                 1   \n",
       "15877252    2017-02-27 13:26:03  118.770004     0.0                 1   \n",
       "15917108    2017-05-09 13:18:38  191.810000   507.0                 1   \n",
       "\n",
       "            minimum_quantity  view_counts  order_counts     category  \n",
       "product_id                                                            \n",
       "11394449                   4          244           NaN    Decoração  \n",
       "15534262                   5          124           NaN  Papel e Cia  \n",
       "16153119                   1           59           NaN       Outros  \n",
       "15877252                   1          180           1.0         Bebê  \n",
       "15917108                   6           34           NaN    Decoração  "
      ],
      "text/html": "<div>\n<style scoped>\n    .dataframe tbody tr th:only-of-type {\n        vertical-align: middle;\n    }\n\n    .dataframe tbody tr th {\n        vertical-align: top;\n    }\n\n    .dataframe thead th {\n        text-align: right;\n    }\n</style>\n<table border=\"1\" class=\"dataframe\">\n  <thead>\n    <tr style=\"text-align: right;\">\n      <th></th>\n      <th>seller_id</th>\n      <th>query</th>\n      <th>search_page</th>\n      <th>position</th>\n      <th>title</th>\n      <th>concatenated_tags</th>\n      <th>creation_date</th>\n      <th>price</th>\n      <th>weight</th>\n      <th>express_delivery</th>\n      <th>minimum_quantity</th>\n      <th>view_counts</th>\n      <th>order_counts</th>\n      <th>category</th>\n    </tr>\n    <tr>\n      <th>product_id</th>\n      <th></th>\n      <th></th>\n      <th></th>\n      <th></th>\n      <th></th>\n      <th></th>\n      <th></th>\n      <th></th>\n      <th></th>\n      <th></th>\n      <th></th>\n      <th></th>\n      <th></th>\n      <th></th>\n    </tr>\n  </thead>\n  <tbody>\n    <tr>\n      <th>11394449</th>\n      <td>8324141</td>\n      <td>espirito santo</td>\n      <td>2</td>\n      <td>6</td>\n      <td>Mandala Espírito Santo</td>\n      <td>mandala mdf</td>\n      <td>2015-11-14 19:42:12</td>\n      <td>171.890000</td>\n      <td>1200.0</td>\n      <td>1</td>\n      <td>4</td>\n      <td>244</td>\n      <td>NaN</td>\n      <td>Decoração</td>\n    </tr>\n    <tr>\n      <th>15534262</th>\n      <td>6939286</td>\n      <td>cartao de visita</td>\n      <td>2</td>\n      <td>0</td>\n      <td>Cartão de Visita</td>\n      <td>cartao visita panfletos tag adesivos copos lon...</td>\n      <td>2018-04-04 20:55:07</td>\n      <td>77.670000</td>\n      <td>8.0</td>\n      <td>1</td>\n      <td>5</td>\n      <td>124</td>\n      <td>NaN</td>\n      <td>Papel e Cia</td>\n    </tr>\n    <tr>\n      <th>16153119</th>\n      <td>9835835</td>\n      <td>expositor de esmaltes</td>\n      <td>1</td>\n      <td>38</td>\n      <td>Organizador expositor p/ 70 esmaltes</td>\n      <td>expositor</td>\n      <td>2018-10-13 20:57:07</td>\n      <td>73.920006</td>\n      <td>2709.0</td>\n      <td>1</td>\n      <td>1</td>\n      <td>59</td>\n      <td>NaN</td>\n      <td>Outros</td>\n    </tr>\n    <tr>\n      <th>15877252</th>\n      <td>8071206</td>\n      <td>medidas lencol para berco americano</td>\n      <td>1</td>\n      <td>6</td>\n      <td>Jogo de Lençol Berço Estampado</td>\n      <td>t jogo lencol menino lencol berco</td>\n      <td>2017-02-27 13:26:03</td>\n      <td>118.770004</td>\n      <td>0.0</td>\n      <td>1</td>\n      <td>1</td>\n      <td>180</td>\n      <td>1.0</td>\n      <td>Bebê</td>\n    </tr>\n    <tr>\n      <th>15917108</th>\n      <td>7200773</td>\n      <td>adesivo box banheiro</td>\n      <td>3</td>\n      <td>38</td>\n      <td>ADESIVO BOX DE BANHEIRO</td>\n      <td>adesivo box banheiro</td>\n      <td>2017-05-09 13:18:38</td>\n      <td>191.810000</td>\n      <td>507.0</td>\n      <td>1</td>\n      <td>6</td>\n      <td>34</td>\n      <td>NaN</td>\n      <td>Decoração</td>\n    </tr>\n  </tbody>\n</table>\n</div>"
     },
     "metadata": {},
     "execution_count": 4
    }
   ],
   "source": [
    "\n",
    "dataset_path = os.environ['DATASET_PATH']\n",
    "df = pd.read_csv(dataset_path, index_col=0)\n",
    "df.head()"
   ]
  },
  {
   "source": [
    "# Data Formatting"
   ],
   "cell_type": "markdown",
   "metadata": {}
  },
  {
   "source": [
    "### Set types"
   ],
   "cell_type": "markdown",
   "metadata": {}
  },
  {
   "cell_type": "code",
   "execution_count": 5,
   "metadata": {},
   "outputs": [
    {
     "output_type": "stream",
     "name": "stdout",
     "text": [
      "<class 'pandas.core.frame.DataFrame'>\nInt64Index: 38000 entries, 11394449 to 6866725\nData columns (total 14 columns):\n #   Column             Non-Null Count  Dtype         \n---  ------             --------------  -----         \n 0   seller_id          38000 non-null  int64         \n 1   query              38000 non-null  string        \n 2   search_page        38000 non-null  int64         \n 3   position           38000 non-null  int64         \n 4   title              38000 non-null  string        \n 5   concatenated_tags  37998 non-null  string        \n 6   creation_date      38000 non-null  datetime64[ns]\n 7   price              38000 non-null  float64       \n 8   weight             37942 non-null  float64       \n 9   express_delivery   38000 non-null  int64         \n 10  minimum_quantity   38000 non-null  int64         \n 11  view_counts        38000 non-null  int64         \n 12  order_counts       38000 non-null  float64       \n 13  category           38000 non-null  category      \ndtypes: category(1), datetime64[ns](1), float64(3), int64(6), string(3)\nmemory usage: 4.1 MB\nNone\n"
     ]
    }
   ],
   "source": [
    "# Save types\n",
    "df['query'] = df['query'].astype('string')\n",
    "df['title'] = df['title'].astype('string')\n",
    "df['concatenated_tags'] = df['concatenated_tags'].astype('string')\n",
    "df['creation_date'] = pd.to_datetime(df['creation_date'])\n",
    "df['order_counts'][df['order_counts'].isnull()] = 0\n",
    "df['category'] = df['category'].astype('category')\n",
    "\n",
    "print(df.info())"
   ]
  },
  {
   "source": [
    "### Category to number"
   ],
   "cell_type": "markdown",
   "metadata": {}
  },
  {
   "cell_type": "code",
   "execution_count": 28,
   "metadata": {},
   "outputs": [
    {
     "output_type": "execute_result",
     "data": {
      "text/plain": [
       "product_id\n",
       "11394449    2\n",
       "15534262    5\n",
       "16153119    4\n",
       "15877252    0\n",
       "15917108    2\n",
       "           ..\n",
       "13230578    3\n",
       "6736914     5\n",
       "11017911    0\n",
       "6807331     3\n",
       "6866725     2\n",
       "Name: category_key, Length: 38000, dtype: int64"
      ]
     },
     "metadata": {},
     "execution_count": 28
    }
   ],
   "source": [
    "le = LabelEncoder()\n",
    "df['category_key'] = le.fit_transform(df['category'])\n",
    "df['category_key']"
   ]
  },
  {
   "cell_type": "code",
   "execution_count": 33,
   "metadata": {},
   "outputs": [
    {
     "output_type": "stream",
     "name": "stderr",
     "text": [
      "[nltk_data] Downloading package stopwords to /home/guiss/nltk_data...\n[nltk_data]   Package stopwords is already up-to-date!\n"
     ]
    }
   ],
   "source": [
    "nlp = spacy.load(\"pt_core_news_sm\")\n",
    "nltk.download('stopwords')\n",
    "stopwords_pt = set(stopwords.words('portuguese'))"
   ]
  },
  {
   "cell_type": "code",
   "execution_count": null,
   "metadata": {},
   "outputs": [],
   "source": [
    "def process_string(text):\n",
    "    letter_text = re.findall(r'[a-zéóáêâãõç]+', text.lower())\n",
    "    without_stopwords = [p for p in palavras if p not in stopwords_pt]\n",
    "    return ' '.join(without_stopwords)\n",
    "\n"
   ]
  },
  {
   "cell_type": "code",
   "execution_count": 8,
   "metadata": {},
   "outputs": [],
   "source": [
    "cbow_path = os.environ['CBOW_PATH']\n",
    "model = KeyedVectors.load_word2vec_format(cbow_path)"
   ]
  },
  {
   "cell_type": "code",
   "execution_count": null,
   "metadata": {},
   "outputs": [],
   "source": []
  },
  {
   "cell_type": "code",
   "execution_count": 11,
   "metadata": {},
   "outputs": [
    {
     "output_type": "execute_result",
     "data": {
      "text/plain": [
       "array([-1.13307e-01, -1.16743e-01,  1.50455e-01, -3.58695e-01,\n",
       "        1.28825e-01, -2.45107e-01,  1.33978e-01, -1.02413e-01,\n",
       "        8.52740e-02,  4.79273e-01,  1.75198e-01,  2.35300e-03,\n",
       "        6.47560e-02,  6.72160e-02,  3.88620e-02,  8.91740e-02,\n",
       "        1.71379e-01, -1.34417e-01,  9.45060e-02,  2.44207e-01,\n",
       "       -3.45270e-02, -1.72445e-01,  6.71440e-02,  4.32640e-02,\n",
       "       -1.54391e-01,  2.79545e-01, -2.05307e-01, -3.04965e-01,\n",
       "       -6.19200e-02,  3.59846e-01,  1.50000e-05,  4.58610e-02,\n",
       "       -5.35870e-02,  4.53210e-02, -7.59300e-02,  1.43144e-01,\n",
       "        1.82000e-03,  4.57890e-02, -2.18112e-01, -3.03660e-01,\n",
       "        3.72200e-01, -1.91510e-02,  3.38653e-01, -1.16413e-01,\n",
       "       -2.25771e-01, -4.94700e-03,  1.87180e-01, -5.17280e-02,\n",
       "        8.58020e-02, -3.02280e-02, -2.68680e-02, -2.32984e-01,\n",
       "       -4.27490e-02,  1.23028e-01,  2.08200e-02,  9.91100e-02,\n",
       "       -5.95780e-02, -1.19358e-01, -3.98400e-02,  8.88800e-03,\n",
       "       -3.24750e-02, -2.48216e-01,  6.86320e-02, -1.53180e-02,\n",
       "        3.26096e-01, -1.23868e-01,  1.26498e-01, -1.06866e-01,\n",
       "       -1.47504e-01, -7.65050e-02,  3.90700e-02,  1.67138e-01,\n",
       "        7.59390e-02, -8.10070e-02, -5.19080e-02,  2.49210e-01,\n",
       "        8.29350e-02, -7.41020e-02, -1.05663e-01, -9.56930e-02,\n",
       "       -3.05259e-01, -5.27900e-02,  1.95325e-01,  1.06558e-01,\n",
       "        7.94060e-02, -7.46280e-02,  6.56830e-02,  2.49372e-01,\n",
       "       -9.80030e-02, -5.33620e-02, -2.04961e-01,  2.19994e-01,\n",
       "       -6.66660e-02, -7.49710e-02, -1.79986e-01, -1.03616e-01,\n",
       "        1.14574e-01, -2.47099e-01,  2.11137e-01,  2.29506e-01,\n",
       "       -3.31528e-01, -5.08430e-02,  5.48160e-02,  3.20902e-01,\n",
       "       -5.35100e-03,  1.82907e-01,  9.28380e-02, -1.81570e-01,\n",
       "       -2.04340e-02,  4.01598e-01,  6.12240e-02, -2.75791e-01,\n",
       "       -1.98591e-01, -1.02702e-01, -7.07530e-02, -7.86990e-02,\n",
       "       -1.63213e-01, -3.86223e-01, -2.44866e-01, -8.28280e-02,\n",
       "       -2.47463e-01,  2.43959e-01,  1.41678e-01,  1.86271e-01,\n",
       "       -9.27630e-02,  3.88840e-02, -2.37600e-02,  2.71109e-01,\n",
       "       -2.06051e-01,  2.70340e-02,  2.30493e-01,  2.08449e-01,\n",
       "       -1.06870e-02, -2.68175e-01,  1.60890e-02, -4.71280e-02,\n",
       "       -4.96560e-02, -7.85210e-02, -4.63040e-02, -7.38950e-02,\n",
       "       -1.20421e-01, -1.13334e-01, -1.55464e-01, -8.25480e-02,\n",
       "        1.27100e-03, -7.95500e-03,  1.42166e-01,  3.92030e-02,\n",
       "        1.99980e-02, -1.85088e-01, -2.03044e-01,  2.69897e-01,\n",
       "        1.18452e-01, -2.04123e-01,  6.38450e-02,  9.86090e-02,\n",
       "       -1.60200e-02,  1.74920e-01,  2.38629e-01, -1.24941e-01,\n",
       "        1.98901e-01, -2.66130e-02,  7.39620e-02,  7.23590e-02,\n",
       "       -4.47290e-02, -1.37033e-01,  1.05416e-01,  2.40072e-01,\n",
       "        5.53740e-02,  4.44360e-02,  6.65480e-02,  1.82191e-01,\n",
       "        6.45570e-02, -2.76450e-02, -5.07350e-02, -1.01897e-01,\n",
       "        2.51110e-02, -3.22000e-02, -9.82490e-02, -8.76170e-02,\n",
       "        1.72059e-01,  1.08165e-01,  1.02382e-01,  1.47060e-02,\n",
       "       -4.69480e-02, -5.47630e-02,  4.18603e-01,  1.01511e-01,\n",
       "        2.49486e-01,  8.34420e-02,  2.31577e-01,  6.32480e-02,\n",
       "        7.90450e-02,  1.95518e-01, -4.74680e-02,  1.67597e-01,\n",
       "        1.04540e-01, -2.99560e-02,  1.19270e-02,  1.60050e-01,\n",
       "        1.90219e-01, -1.54167e-01,  1.09863e-01, -1.24904e-01,\n",
       "        4.62670e-02,  2.88600e-02, -8.99380e-02, -1.06088e-01,\n",
       "        5.25440e-02, -1.15809e-01, -1.00956e-01, -6.27880e-02,\n",
       "        1.32017e-01, -1.41380e-01, -1.72911e-01,  1.71283e-01,\n",
       "       -2.06880e-02, -4.32220e-02, -7.07810e-02,  2.85917e-01,\n",
       "       -9.29540e-02,  1.53486e-01, -1.76727e-01,  2.34230e-02,\n",
       "        4.13383e-01,  7.30770e-02,  6.26000e-03, -1.57970e-01,\n",
       "        2.23517e-01, -1.74609e-01,  1.57631e-01, -2.03395e-01,\n",
       "        2.90732e-01,  2.62086e-01,  4.85930e-02, -2.33920e-02,\n",
       "        2.48250e-02,  2.73050e-02,  2.34155e-01, -1.95400e-03,\n",
       "        1.46470e-02,  2.42578e-01, -6.46340e-02, -2.24179e-01,\n",
       "       -8.78200e-03, -3.15931e-01,  2.21601e-01, -1.98380e-01,\n",
       "       -1.08432e-01, -1.55494e-01, -1.14021e-01,  7.80620e-02,\n",
       "        1.93153e-01,  2.12270e-02, -2.78069e-01, -1.90987e-01,\n",
       "        8.56800e-02,  3.79170e-02, -2.10430e-02, -4.92810e-02,\n",
       "       -1.74194e-01, -1.58200e-02, -8.48750e-02, -2.31053e-01,\n",
       "        9.85180e-02,  5.66100e-03,  6.46430e-02,  2.70702e-01,\n",
       "        9.63540e-02, -2.30720e-02,  1.96620e-02,  3.96430e-02,\n",
       "        2.71585e-01, -2.33288e-01,  1.23660e-02,  1.00462e-01,\n",
       "        9.25300e-03, -2.53000e-02, -1.58320e-01,  3.31129e-01,\n",
       "        4.43100e-01, -2.36239e-01,  1.98826e-01,  5.49800e-03,\n",
       "        5.95370e-02,  4.61260e-02, -7.75860e-02, -4.89330e-02,\n",
       "        3.44640e-02,  1.05909e-01,  9.09430e-02, -4.30580e-02,\n",
       "       -1.37529e-01,  2.25556e-01, -3.78630e-02, -1.33415e-01,\n",
       "        1.87750e-02,  1.05400e-03, -1.56213e-01,  1.47020e-01],\n",
       "      dtype=float32)"
      ]
     },
     "metadata": {},
     "execution_count": 11
    }
   ],
   "source": [
    "model['decorar']"
   ]
  }
 ]
}